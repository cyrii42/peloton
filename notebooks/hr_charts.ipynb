{
 "cells": [
  {
   "cell_type": "code",
   "execution_count": 1,
   "metadata": {},
   "outputs": [
    {
     "name": "stdout",
     "output_type": "stream",
     "text": [
      "Getting workouts from MongoDB...\n",
      "Creating processed Dataframe...\n"
     ]
    }
   ],
   "source": [
    "from pprint import pprint\n",
    "import pandas as pd\n",
    "import plotly.express as px\n",
    "\n",
    "from peloton import PelotonProcessor\n",
    "\n",
    "peloton_processor = PelotonProcessor()"
   ]
  },
  {
   "cell_type": "code",
   "execution_count": null,
   "metadata": {},
   "outputs": [],
   "source": [
    "df = peloton_processor.chart_maker.make_hr_zones_chart_df(peloton_processor.workouts[3].workout_id)\n",
    "df"
   ]
  },
  {
   "cell_type": "code",
   "execution_count": null,
   "metadata": {},
   "outputs": [],
   "source": [
    "print(df['strive_score'].sum())"
   ]
  },
  {
   "cell_type": "code",
   "execution_count": null,
   "metadata": {},
   "outputs": [],
   "source": [
    "color_map={'Zone 1': '#88cfa5',\n",
    "           'Zone 2': '#b7c95d',\n",
    "           'Zone 3': '#fbca3f',\n",
    "           'Zone 4': '#fc7f10',\n",
    "           'Zone 5': '#ff465a'}\n",
    "fig = px.pie(df, values='duration', names='display_name', hole=0.5, color='display_name', color_discrete_map=color_map)\n",
    "fig.show()"
   ]
  },
  {
   "cell_type": "code",
   "execution_count": null,
   "metadata": {},
   "outputs": [],
   "source": [
    "fig2 = px.bar(df.sort_index(ascending=False), x='duration', y='display_name', color='display_name', color_discrete_map=color_map, template='simple_white')\n",
    "fig2.show()"
   ]
  }
 ],
 "metadata": {
  "kernelspec": {
   "display_name": ".venv",
   "language": "python",
   "name": "python3"
  },
  "language_info": {
   "codemirror_mode": {
    "name": "ipython",
    "version": 3
   },
   "file_extension": ".py",
   "mimetype": "text/x-python",
   "name": "python",
   "nbconvert_exporter": "python",
   "pygments_lexer": "ipython3",
   "version": "3.12.3"
  }
 },
 "nbformat": 4,
 "nbformat_minor": 2
}
