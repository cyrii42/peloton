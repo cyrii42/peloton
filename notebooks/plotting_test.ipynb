{
 "cells": [
  {
   "cell_type": "code",
   "execution_count": null,
   "metadata": {},
   "outputs": [],
   "source": [
    "from peloton import PelotonProcessor\n",
    "import pandas as pd\n",
    "from datetime import timedelta\n",
    "import random\n",
    "\n",
    "pd.set_option('plotting.backend', 'matplotlib')\n",
    "\n",
    "processor = PelotonProcessor()\n",
    "\n",
    "workout = processor.workouts[random.randint(0, len(processor.workouts))]\n",
    "\n",
    "metrics = {'output': 'watts',\n",
    "           'cadence': 'rpm',\n",
    "           'resistance': '%',\n",
    "           'speed': 'mph',\n",
    "           'heart_rate': 'bpm'}\n",
    "\n",
    "print(f\"Start Time: {workout.summary.start_time.strftime('%a, %b %-d, %Y @ %-I:%M %p')}\")\n",
    "print(f\"Title: {workout.summary.ride.title}\")\n",
    "\n",
    "for x in range(len(workout.metrics.metrics)):\n",
    "    if x == 4:\n",
    "        print(workout.metrics.metrics[x].values)\n",
    "        values = list(map(lambda x: max(100, x), workout.metrics.metrics[x].values))\n",
    "        print(values)\n",
    "    else:\n",
    "        values = workout.metrics.metrics[x].values\n",
    "    slug = workout.metrics.metrics[x].slug\n",
    "    df = pd.DataFrame(\n",
    "        {slug: values},\n",
    "        index = [(workout.summary.start_time + timedelta(seconds=(x)))\n",
    "                 for x in range(0, (5 * len(workout.metrics.metrics[x].values)), 5)]\n",
    "    )\n",
    "    # df.plot()\n",
    "    print(df)\n",
    "    df.plot(figsize=(16, 4), ylabel=metrics[slug])\n",
    "\n"
   ]
  }
 ],
 "metadata": {
  "kernelspec": {
   "display_name": ".venv",
   "language": "python",
   "name": "python3"
  },
  "language_info": {
   "codemirror_mode": {
    "name": "ipython",
    "version": 3
   },
   "file_extension": ".py",
   "mimetype": "text/x-python",
   "name": "python",
   "nbconvert_exporter": "python",
   "pygments_lexer": "ipython3",
   "version": "3.11.8"
  }
 },
 "nbformat": 4,
 "nbformat_minor": 2
}
